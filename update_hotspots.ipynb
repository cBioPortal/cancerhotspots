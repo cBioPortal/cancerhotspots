{
 "cells": [
  {
   "cell_type": "code",
   "execution_count": 152,
   "id": "fe7f94c1",
   "metadata": {},
   "outputs": [],
   "source": [
    "import pandas as pd"
   ]
  },
  {
   "cell_type": "code",
   "execution_count": 153,
   "id": "835fda06",
   "metadata": {},
   "outputs": [
    {
     "data": {
      "text/plain": [
       "1068"
      ]
     },
     "execution_count": 153,
     "metadata": {},
     "output_type": "execute_result"
    }
   ],
   "source": [
    "multi = pd.read_csv(\"webapp/src/main/resources/data/v2_multi_type_residue_all_1068_new.txt\",sep=\"\\t\",dtype={'Indel_Size':str})\n",
    "len(multi)"
   ]
  },
  {
   "cell_type": "code",
   "execution_count": 154,
   "id": "ff8c6e17",
   "metadata": {},
   "outputs": [
    {
     "data": {
      "text/plain": [
       "1165"
      ]
     },
     "execution_count": 154,
     "metadata": {},
     "output_type": "execute_result"
    }
   ],
   "source": [
    "old_multi = pd.read_csv(\"webapp/src/main/resources/data/v2_multi_type_residue_old.txt\",sep=\"\\t\",dtype={'Indel_Size':str})\n",
    "len(old_multi)"
   ]
  },
  {
   "cell_type": "code",
   "execution_count": 155,
   "id": "f7657103",
   "metadata": {},
   "outputs": [],
   "source": [
    "old_ones = set(['{}-{}'.format(l[0],l[1]) for l in old_multi['Hugo_Symbol Residue'.split()].values])"
   ]
  },
  {
   "cell_type": "code",
   "execution_count": 156,
   "id": "0a0d1ef5",
   "metadata": {},
   "outputs": [],
   "source": [
    "new_ones = set([l.replace('\\t','-').rstrip('\\n') for l in open('new_ones.txt').readlines()])"
   ]
  },
  {
   "cell_type": "code",
   "execution_count": 157,
   "id": "8562930f",
   "metadata": {},
   "outputs": [],
   "source": [
    "new_keep = multi.apply(\n",
    "    lambda x: '{}-{}'.format(x.Hugo_Symbol,x.Amino_Acid_Position) in new_ones\n",
    "    ,axis=1)"
   ]
  },
  {
   "cell_type": "code",
   "execution_count": 158,
   "id": "d9ccffad",
   "metadata": {
    "scrolled": true
   },
   "outputs": [
    {
     "data": {
      "text/plain": [
       "1329"
      ]
     },
     "execution_count": 158,
     "metadata": {},
     "output_type": "execute_result"
    }
   ],
   "source": [
    "final_multi = pd.concat([old_multi, multi[new_keep]]).reset_index(drop=True)\n",
    "len(final_multi)"
   ]
  },
  {
   "cell_type": "code",
   "execution_count": 160,
   "id": "eedf8030",
   "metadata": {},
   "outputs": [],
   "source": [
    "multi[new_keep].to_json('new_v3.json',orient='records',indent=4)"
   ]
  },
  {
   "cell_type": "code",
   "execution_count": 161,
   "id": "b63a63d2",
   "metadata": {},
   "outputs": [
    {
     "data": {
      "text/html": [
       "<div>\n",
       "<style scoped>\n",
       "    .dataframe tbody tr th:only-of-type {\n",
       "        vertical-align: middle;\n",
       "    }\n",
       "\n",
       "    .dataframe tbody tr th {\n",
       "        vertical-align: top;\n",
       "    }\n",
       "\n",
       "    .dataframe thead th {\n",
       "        text-align: right;\n",
       "    }\n",
       "</style>\n",
       "<table border=\"1\" class=\"dataframe\">\n",
       "  <thead>\n",
       "    <tr style=\"text-align: right;\">\n",
       "      <th></th>\n",
       "      <th>Hugo_Symbol</th>\n",
       "      <th>Residue</th>\n",
       "      <th>Reference_Amino_Acid</th>\n",
       "      <th>Amino_Acid_Position</th>\n",
       "      <th>Cluster</th>\n",
       "      <th>PDB_chains</th>\n",
       "      <th>Class</th>\n",
       "      <th>Variant_Amino_Acid</th>\n",
       "      <th>Q-value</th>\n",
       "      <th>Qvalue_Pancan</th>\n",
       "      <th>QvalueCT</th>\n",
       "      <th>P-value</th>\n",
       "      <th>Tumor_Count</th>\n",
       "      <th>Tumor_Type_Count</th>\n",
       "      <th>Tumor_Type_Composition</th>\n",
       "      <th>Indel_Size</th>\n",
       "      <th>Transcript_Id</th>\n",
       "    </tr>\n",
       "  </thead>\n",
       "  <tbody>\n",
       "    <tr>\n",
       "      <th>0</th>\n",
       "      <td>NRAS</td>\n",
       "      <td>Q61</td>\n",
       "      <td>Q:422</td>\n",
       "      <td>61</td>\n",
       "      <td>NaN</td>\n",
       "      <td>NaN</td>\n",
       "      <td>NaN</td>\n",
       "      <td>P:2|R:204|H:27|*:1|K:142|L:46</td>\n",
       "      <td>0.0</td>\n",
       "      <td>0.0</td>\n",
       "      <td>0.0</td>\n",
       "      <td>NaN</td>\n",
       "      <td>422</td>\n",
       "      <td>NaN</td>\n",
       "      <td>thymus:3|biliary_tract:5|liver:1|adrenal_gland...</td>\n",
       "      <td>NaN</td>\n",
       "      <td>ENST00000369535</td>\n",
       "    </tr>\n",
       "    <tr>\n",
       "      <th>1</th>\n",
       "      <td>PIK3CA</td>\n",
       "      <td>E545</td>\n",
       "      <td>E:633</td>\n",
       "      <td>545</td>\n",
       "      <td>NaN</td>\n",
       "      <td>NaN</td>\n",
       "      <td>NaN</td>\n",
       "      <td>Q:20|A:12|D:5|G:21|K:575</td>\n",
       "      <td>0.0</td>\n",
       "      <td>0.0</td>\n",
       "      <td>0.0</td>\n",
       "      <td>NaN</td>\n",
       "      <td>633</td>\n",
       "      <td>NaN</td>\n",
       "      <td>cervix:34|biliary_tract:8|liver:1|bowel:97|ski...</td>\n",
       "      <td>NaN</td>\n",
       "      <td>ENST00000263967</td>\n",
       "    </tr>\n",
       "    <tr>\n",
       "      <th>2</th>\n",
       "      <td>IDH1</td>\n",
       "      <td>R132</td>\n",
       "      <td>R:766</td>\n",
       "      <td>132</td>\n",
       "      <td>NaN</td>\n",
       "      <td>NaN</td>\n",
       "      <td>NaN</td>\n",
       "      <td>C:139|S:16|G:28|H:570|I:1|L:12</td>\n",
       "      <td>0.0</td>\n",
       "      <td>0.0</td>\n",
       "      <td>0.0</td>\n",
       "      <td>NaN</td>\n",
       "      <td>766</td>\n",
       "      <td>NaN</td>\n",
       "      <td>thymus:1|biliary_tract:57|liver:4|adrenal_glan...</td>\n",
       "      <td>NaN</td>\n",
       "      <td>ENST00000345146</td>\n",
       "    </tr>\n",
       "    <tr>\n",
       "      <th>3</th>\n",
       "      <td>PIK3CA</td>\n",
       "      <td>H1047</td>\n",
       "      <td>H:647</td>\n",
       "      <td>1047</td>\n",
       "      <td>NaN</td>\n",
       "      <td>NaN</td>\n",
       "      <td>NaN</td>\n",
       "      <td>Q:7|R:537|Y:18|L:85</td>\n",
       "      <td>0.0</td>\n",
       "      <td>0.0</td>\n",
       "      <td>0.0</td>\n",
       "      <td>NaN</td>\n",
       "      <td>647</td>\n",
       "      <td>NaN</td>\n",
       "      <td>cervix:4|biliary_tract:3|liver:3|adrenal_gland...</td>\n",
       "      <td>NaN</td>\n",
       "      <td>ENST00000263967</td>\n",
       "    </tr>\n",
       "    <tr>\n",
       "      <th>4</th>\n",
       "      <td>BRAF</td>\n",
       "      <td>V600</td>\n",
       "      <td>V:897</td>\n",
       "      <td>600</td>\n",
       "      <td>NaN</td>\n",
       "      <td>NaN</td>\n",
       "      <td>NaN</td>\n",
       "      <td>R:4|E:833|V:4|G:3|K:24|M:29</td>\n",
       "      <td>0.0</td>\n",
       "      <td>0.0</td>\n",
       "      <td>0.0</td>\n",
       "      <td>NaN</td>\n",
       "      <td>897</td>\n",
       "      <td>NaN</td>\n",
       "      <td>biliary_tract:4|skin:357|bowel:113|stomach:1|b...</td>\n",
       "      <td>NaN</td>\n",
       "      <td>ENST00000288602</td>\n",
       "    </tr>\n",
       "  </tbody>\n",
       "</table>\n",
       "</div>"
      ],
      "text/plain": [
       "  Hugo_Symbol Residue Reference_Amino_Acid Amino_Acid_Position  Cluster  \\\n",
       "0        NRAS     Q61                Q:422                  61      NaN   \n",
       "1      PIK3CA    E545                E:633                 545      NaN   \n",
       "2        IDH1    R132                R:766                 132      NaN   \n",
       "3      PIK3CA   H1047                H:647                1047      NaN   \n",
       "4        BRAF    V600                V:897                 600      NaN   \n",
       "\n",
       "   PDB_chains  Class              Variant_Amino_Acid  Q-value  Qvalue_Pancan  \\\n",
       "0         NaN    NaN   P:2|R:204|H:27|*:1|K:142|L:46      0.0            0.0   \n",
       "1         NaN    NaN        Q:20|A:12|D:5|G:21|K:575      0.0            0.0   \n",
       "2         NaN    NaN  C:139|S:16|G:28|H:570|I:1|L:12      0.0            0.0   \n",
       "3         NaN    NaN             Q:7|R:537|Y:18|L:85      0.0            0.0   \n",
       "4         NaN    NaN     R:4|E:833|V:4|G:3|K:24|M:29      0.0            0.0   \n",
       "\n",
       "   QvalueCT  P-value  Tumor_Count  Tumor_Type_Count  \\\n",
       "0       0.0      NaN          422               NaN   \n",
       "1       0.0      NaN          633               NaN   \n",
       "2       0.0      NaN          766               NaN   \n",
       "3       0.0      NaN          647               NaN   \n",
       "4       0.0      NaN          897               NaN   \n",
       "\n",
       "                              Tumor_Type_Composition Indel_Size  \\\n",
       "0  thymus:3|biliary_tract:5|liver:1|adrenal_gland...        NaN   \n",
       "1  cervix:34|biliary_tract:8|liver:1|bowel:97|ski...        NaN   \n",
       "2  thymus:1|biliary_tract:57|liver:4|adrenal_glan...        NaN   \n",
       "3  cervix:4|biliary_tract:3|liver:3|adrenal_gland...        NaN   \n",
       "4  biliary_tract:4|skin:357|bowel:113|stomach:1|b...        NaN   \n",
       "\n",
       "     Transcript_Id  \n",
       "0  ENST00000369535  \n",
       "1  ENST00000263967  \n",
       "2  ENST00000345146  \n",
       "3  ENST00000263967  \n",
       "4  ENST00000288602  "
      ]
     },
     "execution_count": 161,
     "metadata": {},
     "output_type": "execute_result"
    }
   ],
   "source": [
    "old_multi.head()"
   ]
  },
  {
   "cell_type": "code",
   "execution_count": 163,
   "id": "65c90198",
   "metadata": {},
   "outputs": [],
   "source": [
    "final_multi.to_csv(\"webapp/src/main/resources/data/v2_multi_type_residue.txt\",index=False,sep='\\t')"
   ]
  },
  {
   "cell_type": "code",
   "execution_count": 164,
   "id": "37cd6339",
   "metadata": {},
   "outputs": [],
   "source": [
    "single_new = pd.read_csv(\"webapp/src/main/resources/data/single_residue_hotspot_mutations_all_1068_new.txt\",sep='\\t')"
   ]
  },
  {
   "cell_type": "code",
   "execution_count": 165,
   "id": "88aed406",
   "metadata": {},
   "outputs": [],
   "source": [
    "single_old =  pd.read_csv(\"webapp/src/main/resources/data/single_residue_hotspot_mutations_old.txt\",sep='\\t')"
   ]
  },
  {
   "cell_type": "code",
   "execution_count": 166,
   "id": "b04f8b7b",
   "metadata": {},
   "outputs": [],
   "source": [
    "single_new_keep = single_new.apply(\n",
    "    lambda x: '{}-{}'.format(x.Hugo_Symbol,x.Amino_Acid_Position) in new_ones\n",
    ",axis=1)"
   ]
  },
  {
   "cell_type": "code",
   "execution_count": 167,
   "id": "9d48f44b",
   "metadata": {},
   "outputs": [],
   "source": [
    "final_single = pd.concat([single_old,single_new[single_new_keep]]).reset_index(drop=True)"
   ]
  },
  {
   "cell_type": "code",
   "execution_count": 168,
   "id": "0de17bdc",
   "metadata": {},
   "outputs": [],
   "source": [
    "final_single.to_csv(\"webapp/src/main/resources/data/single_residue_hotspot_mutations.txt\",index=False,sep='\\t')"
   ]
  },
  {
   "cell_type": "code",
   "execution_count": 169,
   "id": "069ce132",
   "metadata": {},
   "outputs": [],
   "source": [
    "variant_new = pd.read_csv(\"webapp/src/main/resources/data/v2_multi_type_variant_file_all_1068_new.txt\",sep='\\t')"
   ]
  },
  {
   "cell_type": "code",
   "execution_count": 170,
   "id": "19081a28",
   "metadata": {},
   "outputs": [],
   "source": [
    "variant_old = pd.read_csv(\"webapp/src/main/resources/data/v2_multi_type_variant_file_old.txt\",sep='\\t')"
   ]
  },
  {
   "cell_type": "code",
   "execution_count": 171,
   "id": "f5bbb28f",
   "metadata": {},
   "outputs": [],
   "source": [
    "variant_new_keep = variant_new.apply(\n",
    "    lambda x: '{}-{}'.format(x.Hugo_Symbol,x.Amino_Acid_Position) in new_ones\n",
    ",axis=1)"
   ]
  },
  {
   "cell_type": "code",
   "execution_count": 172,
   "id": "63e0de13",
   "metadata": {},
   "outputs": [],
   "source": [
    "final_variant = pd.concat([variant_old, variant_new[variant_new_keep]]).reset_index(drop=True)\n",
    "final_variant.to_csv(\"webapp/src/main/resources/data/v2_multi_type_variant_file.txt\",index=False,sep='\\t')"
   ]
  }
 ],
 "metadata": {
  "kernelspec": {
   "display_name": "Python 3 (ipykernel)",
   "language": "python",
   "name": "python3"
  },
  "language_info": {
   "codemirror_mode": {
    "name": "ipython",
    "version": 3
   },
   "file_extension": ".py",
   "mimetype": "text/x-python",
   "name": "python",
   "nbconvert_exporter": "python",
   "pygments_lexer": "ipython3",
   "version": "3.9.12"
  }
 },
 "nbformat": 4,
 "nbformat_minor": 5
}
